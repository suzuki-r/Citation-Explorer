{
 "cells": [
  {
   "cell_type": "code",
   "execution_count": null,
   "id": "8213416f",
   "metadata": {},
   "outputs": [],
   "source": [
    "import requests\n",
    "import pandas as pd\n",
    "import matplotlib.pyplot as plt\n",
    "import matplotlib.dates as mdates\n",
    "from datetime import datetime\n",
    "import re\n",
    "from time import sleep  # optional: to be nice to the API"
   ]
  },
  {
   "cell_type": "code",
   "execution_count": null,
   "id": "8f55a7b9",
   "metadata": {},
   "outputs": [],
   "source": [
    "# ----- Run for a specific author -----\n",
    "author_id = \"R.Suzuki.2\""
   ]
  },
  {
   "cell_type": "code",
   "execution_count": null,
   "id": "3b7b6de8",
   "metadata": {},
   "outputs": [],
   "source": [
    "# --- GET AUTHOR'S PAPERS ---\n",
    "def fetch_author_recids(author_id):\n",
    "    base_url = \"https://inspirehep.net/api/literature\"\n",
    "    params = {\n",
    "        \"q\": f\"a {author_id}\",\n",
    "        \"size\": 1000,\n",
    "        \"fields\": \"control_number\"\n",
    "    }\n",
    "    response = requests.get(base_url, params=params)\n",
    "    response.raise_for_status()\n",
    "    data = response.json()\n",
    "    recids = []\n",
    "    for hit in data.get(\"hits\", {}).get(\"hits\", []):\n",
    "        recid = hit.get(\"metadata\", {}).get(\"control_number\")\n",
    "        if recid:\n",
    "            recids.append(recid)\n",
    "    return recids"
   ]
  },
  {
   "cell_type": "code",
   "execution_count": null,
   "id": "618aaf9f",
   "metadata": {},
   "outputs": [],
   "source": [
    "# --- fetch paper IDs ---\n",
    "recids = fetch_author_recids(author_id)\n",
    "print(f\"Found {len(recids)} papers. Getting citations...\")"
   ]
  },
  {
   "cell_type": "code",
   "execution_count": null,
   "id": "7447fc8e",
   "metadata": {},
   "outputs": [],
   "source": [
    "# --- GET CITING DATES FOR A SINGLE PAPER ---\n",
    "def get_citing_dates(recid):\n",
    "    all_dates = []\n",
    "    url    = \"https://inspirehep.net/api/literature\"\n",
    "    params = {\n",
    "        \"q\":    f\"refersto:recid:{recid}\",  \n",
    "        \"size\": 250,                        \n",
    "        \"sort\": \"mostrecent\"                \n",
    "    }\n",
    "\n",
    "    while url:\n",
    "        resp = requests.get(url, params=params)\n",
    "        resp.raise_for_status()\n",
    "        data = resp.json()\n",
    "        raw  = resp.text\n",
    "\n",
    "        # 1) full dates: YYYY-MM-DD\n",
    "        for d in re.findall(r'\"earliest_date\":\"(\\d{4}-\\d{2}-\\d{2})\"', raw):\n",
    "            all_dates.append(datetime.strptime(d, \"%Y-%m-%d\"))\n",
    "\n",
    "        # 2) year‑month only: YYYY-MM  (but not YYYY-MM-DD -> Day = 01)\n",
    "        for ym in re.findall(r'\"earliest_date\":\"(\\d{4}-\\d{2})\"(?!-)', raw):\n",
    "            all_dates.append(datetime.strptime(f\"{ym}-01\", \"%Y-%m-%d\"))\n",
    "\n",
    "        # 3) year only: YYYY (but not YYYY- or YYYY-MM -> Month,Day = July,01)\n",
    "        for y in re.findall(r'\"earliest_date\":\"(\\d{4})\"(?![-\\d])', raw):\n",
    "            all_dates.append(datetime.strptime(f\"{y}-07-01\", \"%Y-%m-%d\"))\n",
    "\n",
    "        # follow pagination\n",
    "        url    = data.get(\"links\", {}).get(\"next\")\n",
    "        params = {}  # next links already include all query parameters\n",
    "\n",
    "    return sorted(all_dates)"
   ]
  },
  {
   "cell_type": "code",
   "execution_count": null,
   "id": "8f25568b",
   "metadata": {},
   "outputs": [],
   "source": [
    "get_citing_dates(836695)"
   ]
  },
  {
   "cell_type": "code",
   "execution_count": null,
   "id": "9080dc16",
   "metadata": {},
   "outputs": [],
   "source": [
    "print(len(_))"
   ]
  },
  {
   "cell_type": "code",
   "execution_count": null,
   "id": "03c7a556",
   "metadata": {},
   "outputs": [],
   "source": [
    "# --- ACCUMULATE AND PLOT CITATIONS ---\n",
    "def build_citation_df(dates):\n",
    "    df = pd.DataFrame(dates, columns=[\"date\"])\n",
    "    df[\"count\"] = 1\n",
    "    df = df.groupby(\"date\").sum().sort_index()\n",
    "    df[\"cumulative\"] = df[\"count\"].cumsum()\n",
    "    return df\n",
    "\n",
    "def plot_citations(df):\n",
    "    fig, ax = plt.subplots(figsize=(10, 6))\n",
    "    ax.plot(df.index, df[\"cumulative\"], marker=\"o\")\n",
    "    ax.set_title(\"Total Cumulative Citations Over Time\")\n",
    "    ax.set_xlabel(\"Year\")\n",
    "    ax.set_ylabel(\"Citations\")\n",
    "    ax.grid(True)\n",
    "\n",
    "    import matplotlib.dates as mdates\n",
    "    ax.xaxis.set_major_locator(mdates.YearLocator(2))\n",
    "    ax.xaxis.set_major_formatter(mdates.DateFormatter(\"%Y\"))\n",
    "    plt.setp(ax.get_xticklabels(), rotation=45, ha=\"right\")\n",
    "\n",
    "    plt.tight_layout()\n",
    "    return fig"
   ]
  },
  {
   "cell_type": "code",
   "execution_count": null,
   "id": "9bfc1572",
   "metadata": {},
   "outputs": [],
   "source": [
    "# --- MAIN LOGIC ---\n",
    "\n",
    "all_dates = []\n",
    "for i, recid in enumerate(recids, 1):\n",
    "    print(f\"[{i}/{len(recids)}] Processing recid {recid}\")\n",
    "    dates = get_citing_dates(recid)\n",
    "    all_dates.extend(dates)\n",
    "    sleep(0.5)  # optional: prevent overwhelming the API\n",
    "\n",
    "if all_dates:\n",
    "    df = build_citation_df(all_dates)\n",
    "    plot_citations(df)\n",
    "else:\n",
    "    print(\"No citation dates found for any paper.\")"
   ]
  },
  {
   "cell_type": "code",
   "execution_count": null,
   "id": "9142c3cc",
   "metadata": {},
   "outputs": [],
   "source": [
    "from IPython.display import display\n",
    "fig = plot_citations(df)"
   ]
  },
  {
   "cell_type": "code",
   "execution_count": null,
   "id": "7ea9db62",
   "metadata": {},
   "outputs": [],
   "source": [
    "# Save to PDF:\n",
    "fig.savefig(\"cumulative_citations.pdf\", format=\"pdf\", bbox_inches=\"tight\")"
   ]
  }
 ],
 "metadata": {
  "kernelspec": {
   "display_name": "python3.10.10",
   "language": "python",
   "name": "python3.10.10"
  },
  "language_info": {
   "codemirror_mode": {
    "name": "ipython",
    "version": 3
   },
   "file_extension": ".py",
   "mimetype": "text/x-python",
   "name": "python",
   "nbconvert_exporter": "python",
   "pygments_lexer": "ipython3",
   "version": "3.10.10"
  }
 },
 "nbformat": 4,
 "nbformat_minor": 5
}
